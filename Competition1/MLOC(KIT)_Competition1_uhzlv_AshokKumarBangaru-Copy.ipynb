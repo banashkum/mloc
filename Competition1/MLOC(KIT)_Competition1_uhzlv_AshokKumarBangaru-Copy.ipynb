{
 "cells": [
  {
   "cell_type": "markdown",
   "metadata": {},
   "source": [
    "# MLOC Competition\n",
    "### This Code Classifies the Input Data(Name) into '+/-' (Decision Tree)\n",
    "##### Note: Provide the input value to the 'signpredictor' function\n",
    "#### Karlsruhe Institute of Technology\n",
    "#### Lecture: Machine Learning and Optimization in Communications (MLOC)\n",
    "#### Written by: Ashok Kumar Bangaru (2324110_uhzlv)\n",
    "#### Electrical Engineering and Information Technology\n",
    "#### Last edit 09.05.2020 by Ashok Kumar Bangaru"
   ]
  },
  {
   "cell_type": "code",
   "execution_count": 1,
   "metadata": {},
   "outputs": [],
   "source": [
    "#Import Libraries\n",
    "import pandas as pd\n",
    "import numpy as np"
   ]
  },
  {
   "cell_type": "code",
   "execution_count": 2,
   "metadata": {},
   "outputs": [],
   "source": [
    "#Import ML packages\n",
    "from sklearn.feature_extraction.text import CountVectorizer\n",
    "from sklearn.feature_extraction import DictVectorizer"
   ]
  },
  {
   "cell_type": "code",
   "execution_count": 3,
   "metadata": {},
   "outputs": [],
   "source": [
    "#Import train data\n",
    "Train_data = pd.read_fwf('Names_data_train_large.txt',names=[\"Sign\", \"Name\"])"
   ]
  },
  {
   "cell_type": "code",
   "execution_count": 4,
   "metadata": {},
   "outputs": [
    {
     "data": {
      "text/html": [
       "<div>\n",
       "<style scoped>\n",
       "    .dataframe tbody tr th:only-of-type {\n",
       "        vertical-align: middle;\n",
       "    }\n",
       "\n",
       "    .dataframe tbody tr th {\n",
       "        vertical-align: top;\n",
       "    }\n",
       "\n",
       "    .dataframe thead th {\n",
       "        text-align: right;\n",
       "    }\n",
       "</style>\n",
       "<table border=\"1\" class=\"dataframe\">\n",
       "  <thead>\n",
       "    <tr style=\"text-align: right;\">\n",
       "      <th></th>\n",
       "      <th>Sign</th>\n",
       "      <th>Name</th>\n",
       "    </tr>\n",
       "  </thead>\n",
       "  <tbody>\n",
       "    <tr>\n",
       "      <td>0</td>\n",
       "      <td>+</td>\n",
       "      <td>Marcus Aurelius</td>\n",
       "    </tr>\n",
       "    <tr>\n",
       "      <td>1</td>\n",
       "      <td>+</td>\n",
       "      <td>Gian Paolo Lomazzo</td>\n",
       "    </tr>\n",
       "    <tr>\n",
       "      <td>2</td>\n",
       "      <td>+</td>\n",
       "      <td>William Ashhurst</td>\n",
       "    </tr>\n",
       "    <tr>\n",
       "      <td>3</td>\n",
       "      <td>-</td>\n",
       "      <td>Adam Falckenhagen</td>\n",
       "    </tr>\n",
       "    <tr>\n",
       "      <td>4</td>\n",
       "      <td>-</td>\n",
       "      <td>Thomas Reid</td>\n",
       "    </tr>\n",
       "  </tbody>\n",
       "</table>\n",
       "</div>"
      ],
      "text/plain": [
       "  Sign                Name\n",
       "0    +     Marcus Aurelius\n",
       "1    +  Gian Paolo Lomazzo\n",
       "2    +    William Ashhurst\n",
       "3    -   Adam Falckenhagen\n",
       "4    -         Thomas Reid"
      ]
     },
     "execution_count": 4,
     "metadata": {},
     "output_type": "execute_result"
    }
   ],
   "source": [
    "#Display imported data\n",
    "Train_data.head()"
   ]
  },
  {
   "cell_type": "code",
   "execution_count": 5,
   "metadata": {},
   "outputs": [],
   "source": [
    "#Convert into numerical data for ML algorithm\n",
    "Train_data.Sign.replace({'+':1,'-':0}, inplace=True)"
   ]
  },
  {
   "cell_type": "code",
   "execution_count": 6,
   "metadata": {},
   "outputs": [],
   "source": [
    "#Custom function for feature analysis\n",
    "def features(name):\n",
    "    return{'Second-letter': name[1]} #second letter"
   ]
  },
  {
   "cell_type": "code",
   "execution_count": 7,
   "metadata": {},
   "outputs": [],
   "source": [
    "#Vectorize the features function\n",
    "features = np.vectorize(features)"
   ]
  },
  {
   "cell_type": "code",
   "execution_count": 8,
   "metadata": {},
   "outputs": [],
   "source": [
    "#Extract the features of the dataset and split the data\n",
    "from sklearn.model_selection import train_test_split\n",
    "df_X = features(Train_data['Name'])\n",
    "df_y = Train_data['Sign']\n",
    "dfX_train,dfX_test,dfy_train,dfy_test=train_test_split(df_X,df_y,test_size=0.33,random_state=42)"
   ]
  },
  {
   "cell_type": "code",
   "execution_count": 9,
   "metadata": {},
   "outputs": [
    {
     "name": "stdout",
     "output_type": "stream",
     "text": [
      "Accuracy of Model for train data 100.0 %\n",
      "Accuracy of Model for test data 100.0 %\n"
     ]
    }
   ],
   "source": [
    "#Model building using DesisionTree\n",
    "from sklearn.tree import DecisionTreeClassifier\n",
    "dv = DictVectorizer()\n",
    "dv.fit_transform(dfX_train) #Fit model\n",
    "dclf = DecisionTreeClassifier()\n",
    "my_xfeatures = dv.transform(dfX_train)\n",
    "dclf.fit(my_xfeatures, dfy_train)\n",
    "print(\"Accuracy of Model for train data\", dclf.score(dv.transform(dfX_train), dfy_train)*100,\"%\")\n",
    "print(\"Accuracy of Model for test data\", dclf.score(dv.transform(dfX_test), dfy_test)*100,\"%\")"
   ]
  },
  {
   "cell_type": "code",
   "execution_count": 10,
   "metadata": {},
   "outputs": [],
   "source": [
    "#A function\n",
    "def signpredictor(a):\n",
    "    testname = [a]\n",
    "    transform_dv = dv.transform(features(testname))\n",
    "    vector = transform_dv.toarray()\n",
    "    if dclf.predict(vector) == 1:\n",
    "        print(\"Predicted Sign is '+'\")\n",
    "    else:\n",
    "        print(\"Predicted Sign is '-'\")"
   ]
  },
  {
   "cell_type": "code",
   "execution_count": 12,
   "metadata": {},
   "outputs": [
    {
     "name": "stdout",
     "output_type": "stream",
     "text": [
      "Predicted Sign is '-'\n"
     ]
    }
   ],
   "source": [
    "signpredictor(\"Gypsy Rose Lee\")"
   ]
  }
 ],
 "metadata": {
  "kernelspec": {
   "display_name": "Python 3",
   "language": "python",
   "name": "python3"
  },
  "language_info": {
   "codemirror_mode": {
    "name": "ipython",
    "version": 3
   },
   "file_extension": ".py",
   "mimetype": "text/x-python",
   "name": "python",
   "nbconvert_exporter": "python",
   "pygments_lexer": "ipython3",
   "version": "3.7.4"
  }
 },
 "nbformat": 4,
 "nbformat_minor": 2
}
